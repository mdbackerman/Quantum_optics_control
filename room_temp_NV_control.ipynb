{
 "cells": [
  {
   "cell_type": "markdown",
   "id": "540bf7b1-d1b8-404c-afb0-85946e84017c",
   "metadata": {},
   "source": [
    "# <b>Room-Temp. NV Experimental Control Notebook</b>\n",
    "\n",
    "<b>Introduction:</b>  \n",
    "This Jupyter Lab notebook controls the room-temp. NV experimental setup on the second optical bench in B00 within the Lukin Group. This experiment contains a laser scanning confocal microscope to study 2D materials. The confocal microscope uses a 100$x$ objective and a fiber-coupled excitation laser at 635 $n$m. The experiment is controlled by a National Instruments (NI) data-acquisition card, specifically the NI-cDAQ series (model 9174). This DAQ contains two cards/modules: 1. the NI-9402 module which contains four bi-directional digital input/output (I/O) channels -also featuring programmable internal clocks for counting. And 2. the NI-9263 module which contains four analog output channels (-10 V to +10 V).\n",
    "\n",
    "This notebook functions as the experimental control software for this room-temp NV measurement setup. This notebook implements the [CoDeS](https://qcodes.github.io/https://qcodes.github.io/) data-acquisition framework written by the Copenhagen/Delft/Sydney/Microsoft quantum computing consortium. QCoDeS is a Python-based framework that uses imported functions and databses to carry about measurements. Additional files are imported within the \"Imports\" section; including the [NI-DAQmx](https://nidaqmx-python.readthedocs.io/en/latest/https://nidaqmx-python.readthedocs.io/en/latest/) framework which uses Python C-type wrappers to communicate with the NI DAQ card. The basic use of this notebook is as follows: \"instruments\" such as the NI-9402 and NI-9263 module (or mode added at a later date) are created using the internal QCoDeS methods. From here, a \"database\", \"station\", and an \"experiment\" are created also following the QCoDeS context. Then diferent measurements can be written and run using the reviously initialized instruments -populating a database for analysis and plotting. This notebook is meant to be continually added to. Measurements will be run, parameters will be changed, and each iteration (experimental run) is carried out within the \"Measurement\" section below; then analized and visualized within the \"Analysis\" section.\n",
    "\n",
    "<b>Helful notes when learning this control framework for the first time:</b>\n",
    "1. The NI-cDAQ card (chasis) is called (this can be changed using the NI-MAX software when the NI-DAQ card is connect to this computer) \"cDAQ1\". Additional info. about the cDAQ device and its inserted modules (as of 081522 only ni_9402 and ni_9263) can be viewed in the NI-MAX software. This software opens automatically when the cDAQ device is connected to <em>this</em> computer\n",
    "2. The first module inserted into the cDAQ card (the NI-9402 module) is called \"mod1\". This naming pattern follows the available slots within the cDAQ chasis (there are four available slots)\n",
    "3. The second module in the cDAQ chasis (the NI-9263 module) is called \"mod2\" following in suit\n",
    "4. The QCoDeS \"experiment_name\" is \"room_temp_NV_exp_control_experimentroom_temp_NV_exp_control_experiment\"\n",
    "5. The QCoDeS \"database_name\" is \"room_temp_NV_exp_control_databaseroom_temp_NV_exp_control_database\"\n",
    "6. The QCoDeS \"station_name\" is \"room_temp_NV_exp_control_stationroom_temp_NV_exp_control_station\""
   ]
  },
  {
   "cell_type": "markdown",
   "id": "362f0491-0012-477c-8e1e-ae9f4c054d69",
   "metadata": {},
   "source": [
    "Notebook timeline:\n",
    "071022 $\\rightarrow$ 081522  \n",
    "\n",
    "Initial author: Miles D. Ackerman (undergraduate during summer of 2022)"
   ]
  },
  {
   "cell_type": "markdown",
   "id": "c6361ee6-10c8-485f-bb56-763bd9770601",
   "metadata": {
    "tags": []
   },
   "source": [
    "## Preliminaries\n",
    "\n",
    "___\n",
    "\n",
    "The below cells in this section contain code referenced before any other setup. This is the preamble for this notebook allowing ease of editing for referenced files that are called in this notebook."
   ]
  },
  {
   "cell_type": "markdown",
   "id": "996d6803-3d1c-4ba6-a1fb-8814134f676b",
   "metadata": {
    "tags": []
   },
   "source": [
    "### Auto-relaod for editing imported files (packages)\n",
    "\n",
    "This short series of commands does not need to be run if starting from the top of this notebook. It will automatically reference the most recently saved edited files imported below."
   ]
  },
  {
   "cell_type": "code",
   "execution_count": 1,
   "id": "ac27c35f-68be-4d97-8e75-5acaa80dfdb6",
   "metadata": {},
   "outputs": [],
   "source": [
    "# auto-reload commands\n",
    "%load_ext autoreload\n",
    "%autoreload 2"
   ]
  },
  {
   "cell_type": "markdown",
   "id": "a48e3530-25d3-4add-a26a-f2a735f6145b",
   "metadata": {
    "tags": []
   },
   "source": [
    "### Closing created instruments (modules)\n",
    "\n",
    "Use if starting from the top of the notebook only. Otherwise, already initialized instruments will be lost and MUST be re-created before any measurement can be made."
   ]
  },
  {
   "cell_type": "code",
   "execution_count": 2,
   "id": "1a499942-ca69-4a95-81a4-547fc41483f7",
   "metadata": {},
   "outputs": [],
   "source": [
    "# TODO: fix both below code cells for closing instruments\n",
    "# goal: close instruments only if open to prevent accidentally closing instruments\n",
    "\n",
    "# try:\n",
    "#     ni_9402.close, ni_9263.close()\n",
    "# except NameError:\n",
    "#     print(\"already clsoed\")"
   ]
  },
  {
   "cell_type": "code",
   "execution_count": 4,
   "id": "fb2ff3c3-2b1d-4135-ad3d-b98a4b8ea695",
   "metadata": {},
   "outputs": [
    {
     "ename": "NameError",
     "evalue": "name 'ni_9402' is not defined",
     "output_type": "error",
     "traceback": [
      "\u001b[1;31m---------------------------------------------------------------------------\u001b[0m",
      "\u001b[1;31mNameError\u001b[0m                                 Traceback (most recent call last)",
      "Input \u001b[1;32mIn [4]\u001b[0m, in \u001b[0;36m<cell line: 2>\u001b[1;34m()\u001b[0m\n\u001b[0;32m      1\u001b[0m \u001b[38;5;66;03m# closing the ni_9402 module (first slot within the NI-cDAQ)\u001b[39;00m\n\u001b[1;32m----> 2\u001b[0m \u001b[43mni_9402\u001b[49m\u001b[38;5;241m.\u001b[39mclose()\n",
      "\u001b[1;31mNameError\u001b[0m: name 'ni_9402' is not defined"
     ]
    }
   ],
   "source": [
    "# closing the ni_9402 module (first slot within the NI-cDAQ)\n",
    "ni_9402.close()"
   ]
  },
  {
   "cell_type": "code",
   "execution_count": 5,
   "id": "892eea81-23d2-4e79-83fd-fbc1518dd766",
   "metadata": {},
   "outputs": [
    {
     "ename": "NameError",
     "evalue": "name 'ni_9263' is not defined",
     "output_type": "error",
     "traceback": [
      "\u001b[1;31m---------------------------------------------------------------------------\u001b[0m",
      "\u001b[1;31mNameError\u001b[0m                                 Traceback (most recent call last)",
      "Input \u001b[1;32mIn [5]\u001b[0m, in \u001b[0;36m<cell line: 2>\u001b[1;34m()\u001b[0m\n\u001b[0;32m      1\u001b[0m \u001b[38;5;66;03m# closing the ni_9263 module (second slot within the NI-cDAQ)\u001b[39;00m\n\u001b[1;32m----> 2\u001b[0m \u001b[43mni_9263\u001b[49m\u001b[38;5;241m.\u001b[39mclose()\n",
      "\u001b[1;31mNameError\u001b[0m: name 'ni_9263' is not defined"
     ]
    }
   ],
   "source": [
    "# closing the ni_9263 module (second slot within the NI-cDAQ)\n",
    "ni_9263.close()"
   ]
  },
  {
   "cell_type": "markdown",
   "id": "c9831312-2d9b-4337-bd90-77dd80692c2a",
   "metadata": {
    "tags": []
   },
   "source": [
    "## Importing  required modules\n",
    "\n",
    "___\n",
    "\n",
    "This below cell contains all of the referenced imports (files/modules) used in this experimental control notebook."
   ]
  },
  {
   "cell_type": "code",
   "execution_count": 6,
   "id": "fd62267b-dc04-4d90-bc88-a9f2b53c8675",
   "metadata": {},
   "outputs": [],
   "source": [
    "# overall imports\n",
    "import numpy as np\n",
    "import qcodes as qc\n",
    "import nidaqmx\n",
    "import os\n",
    "from time import sleep\n",
    "from tqdm.notebook import trange, tqdm\n",
    "import matplotlib as mpl\n",
    "import matplotlib.pyplot as plt\n",
    "\n",
    "# qcodes dataset imports\n",
    "from qcodes.dataset import (\n",
    "    Measurement,\n",
    "    experiments,\n",
    "    initialise_or_create_database_at,\n",
    "    load_by_run_spec,\n",
    "    load_or_create_experiment,\n",
    ")\n",
    "\n",
    "# import qcodes contrib_drivers NI package (all)\n",
    "from qcodes_contrib_drivers.drivers.NationalInstruments.DAQ import *\n",
    "\n",
    "# import mulit-D scanning module (from QCoDeS)\n",
    "from qcodes.utils.dataset.doNd import (\n",
    "    dond,\n",
    "    LinSweep,\n",
    "    do1d\n",
    ")\n",
    "\n",
    "# import plotting module (from QCoDeS)\n",
    "from qcodes.dataset.plotting import plot_dataset\n",
    "\n",
    "# import interactive widget from QCoDeS\n",
    "from qcodes.interactive_widget import experiments_widget\n",
    "\n",
    "# other imports\n",
    "%matplotlib inline\n",
    "from qcodes.instrument.specialized_parameters import ElapsedTimeParameter\n",
    "from qcodes.instrument.parameter import Parameter\n",
    "from qcodes.dataset import initialise_or_create_database_at\n",
    "from qcodes.dataset.measurements import Measurement\n",
    "from qcodes.dataset.experiment_container import load_or_create_experiment\n",
    "from qcodes.dataset.plotting import plot_dataset\n",
    "from qcodes import Station, initialise_or_create_database_at, \\\n",
    "    load_or_create_experiment, Measurement\n",
    "import IPython.lib.backgroundjobs as bg\n",
    "from plottr.apps import inspectr\n",
    "from qcodes.plots.qcmatplotlib import MatPlot\n",
    "from qcodes.loops import Loop\n",
    "from qcodes.plots.pyqtgraph import QtPlot"
   ]
  },
  {
   "cell_type": "code",
   "execution_count": null,
   "id": "68277e15-f36d-4d79-8c86-fd37c9d260f6",
   "metadata": {},
   "outputs": [],
   "source": [
    "# TODO: some of the above imports are not currently used in this eperiment control (as of 081522)"
   ]
  },
  {
   "cell_type": "code",
   "execution_count": null,
   "id": "e427092b-e5b5-4e34-abed-391916fda11b",
   "metadata": {},
   "outputs": [],
   "source": [
    "# TODO: QCoDeS logging?\n",
    "# https://qcodes.github.io/Qcodes/examples/logging/logging_example.html\n",
    "\n",
    "# include QCoDeS logging above?"
   ]
  },
  {
   "cell_type": "markdown",
   "id": "251792df-8ba0-4955-a77f-8db2b33d277e",
   "metadata": {
    "tags": []
   },
   "source": [
    "## Creating instruments\n",
    "\n",
    "___\n",
    "\n",
    "The below cells initialize each instrument (hardware cards inserted into the cDAQ) to be used for measurement."
   ]
  },
  {
   "cell_type": "markdown",
   "id": "f6a9ecb4-e209-4368-857b-97b93120b622",
   "metadata": {
    "tags": []
   },
   "source": [
    "### Creating the ni_9402 instrument (slot one in the cDAQ card)\n",
    "\n",
    "This module's info. can be found at: [https://www.ni.com/en-us/support/model.ni-9402.htmlhttps://www.ni.com/en-us/support/model.ni-9402.html](NI-9402). This module functions as a counter based on an internal clock within the module. The first part of the below cell defines all of the avilable parameters for creating a counter assigned to this module. The counter requires the use of two of the four available channels on this cDAQ card. One channel is for input (from the APD on the optical bench), and one channel for the hardware-timed clock to \"run\" the counter. Currently (as of 081522) only one counter (analog input) channel can be created at a time. In order to change this functionality, the source code for this contributed drivers package must be edited."
   ]
  },
  {
   "cell_type": "code",
   "execution_count": 7,
   "id": "2cd810b9-3464-4c61-bbf7-012f22741940",
   "metadata": {},
   "outputs": [],
   "source": [
    "# def the parameters of the instrument\n",
    "ni_9402_device_name = \"cDAQ1Mod1\"\n",
    "ni_9402_counter_channel = \"cDAQ1Mod1/ctr0\"\n",
    "ni_9402_clock_channel = \"cDAQ1Mod1/ctr1\"\n",
    "ni_9402_source_channel = \"/cDAQ1/Ctr1InternalOutput\"\n",
    "ni_9402_sampling_rate = 1000\n",
    "ni_9402_samples_per_channel = 1\n",
    "ni_9402_duty_cycle = 0.5\n",
    "ni_9402_integration_time = 0.3\n",
    "ni_9402_timeout = 0.01\n",
    "\n",
    "# creating the instrument for mod1\n",
    "ni_9402 = Counter(\"ni_9402_module\", ni_9402_device_name, ni_9402_counter_channel,\n",
    "    ni_9402_clock_channel, ni_9402_source_channel, ni_9402_sampling_rate,\n",
    "    ni_9402_samples_per_channel, ni_9402_duty_cycle,\n",
    "    ni_9402_integration_time, ni_9402_timeout\n",
    "    )"
   ]
  },
  {
   "cell_type": "code",
   "execution_count": null,
   "id": "4918a79d-ef63-4d93-ae7b-801c4448053c",
   "metadata": {},
   "outputs": [],
   "source": [
    "# TODO: allow for multiple counter input channels (can more than one counter input channel be liked to the same hardware-timed referene clock?)\n",
    "# This should function as the NI-9263 ao_channels initializations statement -a list of available channels to reference instead of one defined one as above"
   ]
  },
  {
   "cell_type": "markdown",
   "id": "8b9e92c3-9a6f-4af1-9160-e445844e9118",
   "metadata": {
    "tags": []
   },
   "source": [
    "### creating ni_9263 instrument (slot two in the cDAQ chasis)\n",
    "\n",
    "This module's info can be found at: [https://www.ni.com/en-us/support/model.ni-9263.htmlhttps://www.ni.com/en-us/support/model.ni-9263.html](NI-9263). This moduel is used for programmable digital output. This functionality is largely used for controlling the servo motors on the ThorLab's galvo (by writing a sequence of voltages to them -see \"Galvo scan\" for more info.). Here, all available digital output channels are created in one line: `ni_9263_ao_channels` where a single channel can be accessed at a time."
   ]
  },
  {
   "cell_type": "code",
   "execution_count": 8,
   "id": "0746c45b-7de4-4c03-8bd1-db00758b0e56",
   "metadata": {},
   "outputs": [],
   "source": [
    "# naming the instrument\n",
    "ni_9263_device_name = \"cDAQ1Mod2\"\n",
    "\n",
    "# dictionary of analog output channels\n",
    "ni_9263_ao_channels = {f'{ni_9263_device_name}/ao{i}': i for i in range(4)}\n",
    "\n",
    "# defining the instrument (ni_9263)\n",
    "ni_9263 = DAQAnalogOutputs(\"ni_9263_module\", ni_9263_device_name, ni_9263_ao_channels)"
   ]
  },
  {
   "cell_type": "markdown",
   "id": "5798671c-4812-421b-a62f-d1c43fab8242",
   "metadata": {
    "tags": []
   },
   "source": [
    "## Getting instrument snapshots\n",
    "\n",
    "___\n",
    "\n",
    "This verifies required parameters are setup properly verifies required parameters are setup properly"
   ]
  },
  {
   "cell_type": "markdown",
   "id": "f1e41f70-e63d-4a38-93fc-68bfcb277760",
   "metadata": {
    "tags": []
   },
   "source": [
    "### ni_9402 module (cDAQ1 slot one) snapshot"
   ]
  },
  {
   "cell_type": "code",
   "execution_count": 9,
   "id": "a2f9fcf7-20aa-4002-9e0c-37c75e366521",
   "metadata": {},
   "outputs": [
    {
     "name": "stdout",
     "output_type": "stream",
     "text": [
      "ni_9402_module:\n",
      "\tparameter                 value\n",
      "--------------------------------------------------------------------------------\n",
      "IDN                        :\tNone \n",
      "integrateavg               :\tNone (#)\n",
      "read_counter_cdaq1mod1ctr0 :\tNone (#)\n"
     ]
    }
   ],
   "source": [
    "# get ni_9402 snapshot\n",
    "ni_9402.print_readable_snapshot()"
   ]
  },
  {
   "cell_type": "markdown",
   "id": "9310b8b3-958a-41a6-8255-39ba32016d75",
   "metadata": {
    "tags": []
   },
   "source": [
    "### ni_9263 (cDAQ1 slot two) module snapshot"
   ]
  },
  {
   "cell_type": "code",
   "execution_count": 10,
   "id": "74c045ac-d42e-43bc-828c-f002b73f1aad",
   "metadata": {},
   "outputs": [
    {
     "name": "stdout",
     "output_type": "stream",
     "text": [
      "ni_9263_module:\n",
      "\tparameter           value\n",
      "--------------------------------------------------------------------------------\n",
      "IDN                  :\tNone \n",
      "voltage_cdaq1mod2ao0 :\tNone (V)\n",
      "voltage_cdaq1mod2ao1 :\tNone (V)\n",
      "voltage_cdaq1mod2ao2 :\tNone (V)\n",
      "voltage_cdaq1mod2ao3 :\tNone (V)\n"
     ]
    }
   ],
   "source": [
    "# get ni_9263 snapshot\n",
    "ni_9263.print_readable_snapshot()"
   ]
  },
  {
   "cell_type": "markdown",
   "id": "adeee90e-6e95-48ef-af4a-3196e4f64161",
   "metadata": {
    "tags": []
   },
   "source": [
    "## Creating a station\n",
    "\n",
    "___\n",
    "\n",
    "This follows the QCoDeS framework to create a station for running measurements. Previously initializied instruments can be (are) added to the station in order to be referenced later using other functions."
   ]
  },
  {
   "cell_type": "code",
   "execution_count": 11,
   "id": "5c3bb2e8-bb1e-4b4a-bf83-83873fd0274f",
   "metadata": {},
   "outputs": [],
   "source": [
    "# create the station at the designated name\n",
    "room_temp_NV_exp_control_station = qc.Station()"
   ]
  },
  {
   "cell_type": "markdown",
   "id": "04a347c6-40c2-46f6-8bf2-1b4b69b479a5",
   "metadata": {
    "tags": []
   },
   "source": [
    "### Adding the ni_9402 instrument to the station"
   ]
  },
  {
   "cell_type": "code",
   "execution_count": 12,
   "id": "0bec1518-dd47-4aec-b7d6-99ea66e424ce",
   "metadata": {},
   "outputs": [
    {
     "name": "stderr",
     "output_type": "stream",
     "text": [
      "[ni_9402_module(Counter)] Error getting or interpreting *IDN?: ''\n",
      "Traceback (most recent call last):\n",
      "  File \"C:\\Users\\lukin2dmaterials\\miniconda3\\envs\\qcodes\\lib\\site-packages\\qcodes\\instrument\\base.py\", line 640, in get_idn\n",
      "    idstr = self.ask('*IDN?')\n",
      "  File \"C:\\Users\\lukin2dmaterials\\miniconda3\\envs\\qcodes\\lib\\site-packages\\qcodes\\instrument\\base.py\", line 961, in ask\n",
      "    raise e\n",
      "  File \"C:\\Users\\lukin2dmaterials\\miniconda3\\envs\\qcodes\\lib\\site-packages\\qcodes\\instrument\\base.py\", line 954, in ask\n",
      "    answer = self.ask_raw(cmd)\n",
      "  File \"C:\\Users\\lukin2dmaterials\\miniconda3\\envs\\qcodes\\lib\\site-packages\\qcodes\\instrument\\base.py\", line 974, in ask_raw\n",
      "    raise NotImplementedError(\n",
      "NotImplementedError: ('Instrument Counter has not defined an ask method', \"asking '*IDN?' to <Counter: ni_9402_module>\")\n",
      "[ni_9402_module(Counter)] Snapshot: Could not update parameter: read_counter_cdaq1mod1ctr0\n",
      "[ni_9402_module(Counter)] Snapshot: Could not update parameter: integrateavg\n"
     ]
    },
    {
     "data": {
      "text/plain": [
       "'ni_9402_module'"
      ]
     },
     "execution_count": 12,
     "metadata": {},
     "output_type": "execute_result"
    }
   ],
   "source": [
    "# add ni_9402_module to station\n",
    "room_temp_NV_exp_control_station.add_component(ni_9402)\n",
    "\n",
    "#TODO: fix the IDN error here"
   ]
  },
  {
   "cell_type": "markdown",
   "id": "84ac730c-b8e4-49d9-9da0-e52f4d9b423f",
   "metadata": {
    "tags": []
   },
   "source": [
    "### Adding the ni_9263 instrument to the station"
   ]
  },
  {
   "cell_type": "code",
   "execution_count": 13,
   "id": "c19ef341-9825-4cbb-8328-fd8c0283d3cd",
   "metadata": {},
   "outputs": [
    {
     "name": "stderr",
     "output_type": "stream",
     "text": [
      "[ni_9263_module(DAQAnalogOutputs)] Error getting or interpreting *IDN?: ''\n",
      "Traceback (most recent call last):\n",
      "  File \"C:\\Users\\lukin2dmaterials\\miniconda3\\envs\\qcodes\\lib\\site-packages\\qcodes\\instrument\\base.py\", line 640, in get_idn\n",
      "    idstr = self.ask('*IDN?')\n",
      "  File \"C:\\Users\\lukin2dmaterials\\miniconda3\\envs\\qcodes\\lib\\site-packages\\qcodes\\instrument\\base.py\", line 961, in ask\n",
      "    raise e\n",
      "  File \"C:\\Users\\lukin2dmaterials\\miniconda3\\envs\\qcodes\\lib\\site-packages\\qcodes\\instrument\\base.py\", line 954, in ask\n",
      "    answer = self.ask_raw(cmd)\n",
      "  File \"C:\\Users\\lukin2dmaterials\\miniconda3\\envs\\qcodes\\lib\\site-packages\\qcodes\\instrument\\base.py\", line 974, in ask_raw\n",
      "    raise NotImplementedError(\n",
      "NotImplementedError: ('Instrument DAQAnalogOutputs has not defined an ask method', \"asking '*IDN?' to <DAQAnalogOutputs: ni_9263_module>\")\n"
     ]
    },
    {
     "data": {
      "text/plain": [
       "'ni_9263_module'"
      ]
     },
     "execution_count": 13,
     "metadata": {},
     "output_type": "execute_result"
    }
   ],
   "source": [
    "# add ni_9263 to station\n",
    "room_temp_NV_exp_control_station.add_component(ni_9263)\n",
    "\n",
    "#TODO: fix the IDN error here"
   ]
  },
  {
   "cell_type": "markdown",
   "id": "d65b1cc4-7a41-40df-8a2e-34478e3acd4e",
   "metadata": {
    "tags": []
   },
   "source": [
    "### Getting the whole station snapshot\n",
    "\n",
    "This cell outputs all of the accessible info. corresponding to the user-defined instruments."
   ]
  },
  {
   "cell_type": "code",
   "execution_count": 20,
   "id": "9c908639-bc9d-4d58-9070-3eec3444f249",
   "metadata": {},
   "outputs": [],
   "source": [
    "# calling to view station snapshot\n",
    "_=room_temp_NV_exp_control_station.snapshot()# can addd \"_ = \" at beginning to supress long output"
   ]
  },
  {
   "cell_type": "markdown",
   "id": "ebdc22d8-42e5-485a-a95a-2eca44660f94",
   "metadata": {
    "tags": []
   },
   "source": [
    "## Creating a databaase\n",
    "\n",
    "___\n",
    "\n",
    "This is where all measurement and recorded data is written to. This data can be accessed in a number of ways but first must have a storage place designated. Multiple databases can be created and accessed"
   ]
  },
  {
   "cell_type": "markdown",
   "id": "36fb2d0d-3a4e-43eb-9283-d9d7820288e6",
   "metadata": {
    "tags": []
   },
   "source": [
    "### Initialize the database for later use"
   ]
  },
  {
   "cell_type": "code",
   "execution_count": 15,
   "id": "a192d4f6-e870-4cbb-832d-93c8d4a85cb1",
   "metadata": {},
   "outputs": [
    {
     "name": "stdout",
     "output_type": "stream",
     "text": [
      "Upgrading database; v0 -> v1: : 0it [00:00, ?it/s]\n",
      "Upgrading database; v1 -> v2: 100%|███████████████████████████████████████████████████████████| 1/1 [00:00<?, ?it/s]\n",
      "Upgrading database; v2 -> v3: : 0it [00:00, ?it/s]\n",
      "Upgrading database; v3 -> v4: : 0it [00:00, ?it/s]\n",
      "Upgrading database; v4 -> v5: 100%|██████████████████████████████████████████████████| 1/1 [00:00<00:00, 100.06it/s]\n",
      "Upgrading database; v5 -> v6: : 0it [00:00, ?it/s]\n",
      "Upgrading database; v6 -> v7: 100%|███████████████████████████████████████████████████████████| 1/1 [00:00<?, ?it/s]\n",
      "Upgrading database; v7 -> v8: 100%|███████████████████████████████████████████████████████████| 1/1 [00:00<?, ?it/s]\n",
      "Upgrading database; v8 -> v9: 100%|███████████████████████████████████████████████████████████| 1/1 [00:00<?, ?it/s]\n"
     ]
    }
   ],
   "source": [
    "# create the database. \"initialise\" also functions to load a previously created database. Multiple databases can be created\n",
    "# as of 081522 only one database has been created (used for writing this notebook and testing)\n",
    "initialise_or_create_database_at(\"~/room_temp_NV_exp_control_database.db\")"
   ]
  },
  {
   "cell_type": "markdown",
   "id": "93874f06-e984-4e34-b3d3-c341f8551776",
   "metadata": {
    "tags": []
   },
   "source": [
    "### Confirming the database location on THIS computer"
   ]
  },
  {
   "cell_type": "code",
   "execution_count": 16,
   "id": "4187eac3-3982-4e9a-b36f-3e4cd7aa82fd",
   "metadata": {},
   "outputs": [
    {
     "data": {
      "text/plain": [
       "'~/room_temp_NV_exp_control_database.db'"
      ]
     },
     "execution_count": 16,
     "metadata": {},
     "output_type": "execute_result"
    }
   ],
   "source": [
    "# testing database location on THIS computer\n",
    "qc.config.core.db_location"
   ]
  },
  {
   "cell_type": "markdown",
   "id": "468533ad-a826-4e3a-a8be-8915802b3d49",
   "metadata": {
    "tags": []
   },
   "source": [
    "## Creating an experiment\n",
    "\n",
    "___\n",
    "\n",
    "This is the last cell following the notebook outline from QCoDeS. This \"experiment\" is used for running measurements later along with the instruments, station, and database"
   ]
  },
  {
   "cell_type": "markdown",
   "id": "3feff4ae-c874-499b-8401-e2d1c92c9bc0",
   "metadata": {
    "tags": []
   },
   "source": [
    "### Initilize the experiment"
   ]
  },
  {
   "cell_type": "code",
   "execution_count": 17,
   "id": "995aa626-1de6-40ef-b6e6-69e2107d2ebe",
   "metadata": {},
   "outputs": [],
   "source": [
    "# setting up experiment name and experiment data\n",
    "room_temp_NV_exp_control_experiment = load_or_create_experiment(\n",
    "    experiment_name = \"room_temp_NV_exp_control_experiment\",\n",
    "    sample_name = \"room_temp_NV_exp_control_experiment_data\"\n",
    ")"
   ]
  },
  {
   "cell_type": "raw",
   "id": "1a8746df-8160-4ce7-8c24-9b027db04f43",
   "metadata": {},
   "source": [
    "BREAK"
   ]
  },
  {
   "cell_type": "markdown",
   "id": "aad07639-09cb-4c54-8246-15dbcc1589a7",
   "metadata": {
    "tags": []
   },
   "source": [
    "## Measurement\n",
    "\n",
    "___\n",
    "\n",
    "Below this cells starts the measurement section for this experiment. This is where new measurements will be created and run. Analysis of measurements (including plotting of data can be carried out in the last section of this notebook -\"Analysis\"). Taking measurements follow this proces: ADD INFO HERE. The different types of measurements are numbered as written below. When analyzing data from one of these measurements, refer to the corresponding section in \"Analysis\"."
   ]
  },
  {
   "cell_type": "markdown",
   "id": "dd2c73ef-3ffd-4e1d-adac-81d941233a6e",
   "metadata": {},
   "source": [
    "### Reading from the chosen counter channel (Measurement)\n",
    "\n",
    "This measurement section soley reads data from the chosen counter channel (this counter channel was initialized when the instrument, NI-9402 was created above in \"Creating Instruments\"). Within this section are code cells for reading a single sample from the counter and for reading a finite number of samples from the channel."
   ]
  },
  {
   "cell_type": "markdown",
   "id": "961c14b0-8885-4bf4-ab04-914ec759c641",
   "metadata": {},
   "source": [
    "#### 1. Reading a single sample from the chosen counter channel (Measurement)\n",
    "\n",
    "Read a single sample from the chosen counter (this returns a result based on the pre-set parameters when the instrument was created). No parameters for this measurement can be changed here."
   ]
  },
  {
   "cell_type": "code",
   "execution_count": 85,
   "id": "c67c487f-fd7d-4332-8e85-f7967ca4048e",
   "metadata": {},
   "outputs": [
    {
     "name": "stdout",
     "output_type": "stream",
     "text": [
      "Starting experimental run with id: 32. \n"
     ]
    }
   ],
   "source": [
    "# setup the measurement\n",
    "counter_single_sample_meas = Measurement(\n",
    "    exp = room_temp_NV_exp_control_experiment,\n",
    "    station = room_temp_NV_exp_control_station,\n",
    "    name = \"counter_single_sample_meas\"\n",
    "    )\n",
    "\n",
    "# register a parameter to the above measurement\n",
    "counter_single_sample_meas.register_parameter(ni_9402.read_counter_cdaq1mod1ctr0)\n",
    "\n",
    "# run the measurement (read the counter value)\n",
    "with counter_single_sample_meas.run() as datasaver:\n",
    "    result_test = ni_9402.read_counter_cdaq1mod1ctr0()\n",
    "\n",
    "    # saving the single read counter value to a user-named dataset\n",
    "    counter_single_sample_dataset = datasaver.dataset"
   ]
  },
  {
   "cell_type": "markdown",
   "id": "7fdc83d7-1037-44f2-a184-7bf0efea808e",
   "metadata": {},
   "source": [
    "#### 2. Reading a finite number of smaples from the chosen counter channel (Measurement)\n",
    "\n",
    "This measurement reads a finite number of samples from the ni_9402 module counter channel (the selected channel was defined when the instrument was created in \"Instruments\"). The parameters defined when the ni_9402 insturment was created still apply here (e.g. sampling rate). Only the number of samples to acquire from the counter can be changed here"
   ]
  },
  {
   "cell_type": "code",
   "execution_count": 94,
   "id": "0231350d-782a-45eb-acd9-373f4a5490a6",
   "metadata": {},
   "outputs": [
    {
     "name": "stdout",
     "output_type": "stream",
     "text": [
      "Starting experimental run with id: 37. \n"
     ]
    },
    {
     "data": {
      "application/vnd.jupyter.widget-view+json": {
       "model_id": "",
       "version_major": 2,
       "version_minor": 0
      },
      "text/plain": [
       "scan progress:   0%|          | 0/50 [00:00<?, ?it/s]"
      ]
     },
     "metadata": {},
     "output_type": "display_data"
    }
   ],
   "source": [
    "# setup parameters for the finite measurement\n",
    "counter_value_to_read = ni_9402.read_counter_cdaq1mod1ctr0\n",
    "time = ElapsedTimeParameter(\"time\")\n",
    "\n",
    "# user-defined variable for the measurement\n",
    "num_counter_values_to_read = 50\n",
    "\n",
    "# setup the measurement\n",
    "counter_finite_samples_meas = Measurement(\n",
    "    exp = room_temp_NV_exp_control_experiment,\n",
    "    station = room_temp_NV_exp_control_station,\n",
    "    name = \"counter_finite_samples_meas\"\n",
    "    )\n",
    "\n",
    "# registering defined parameters to the measurement (counter_finite_samples_meas)\n",
    "counter_finite_samples_meas.register_parameter(time)\n",
    "counter_finite_samples_meas.register_parameter(counter_values, setpoints = [time])\n",
    "\n",
    "# loop to read finite number of values from counter\n",
    "with counter_finite_samples_meas.run() as datasaver:\n",
    "    \n",
    "    # before loop statements\n",
    "    counter_values_list = 0\n",
    "    time.reset_clock()\n",
    "    \n",
    "    # measurement loop\n",
    "    for i in trange(num_counter_values_to_read, desc = \"scan progress\"): # use tqdm for progress bar\n",
    "        counter_values_list += counter_value_to_read()\n",
    "        current_time = time()\n",
    "        datasaver.add_result((counter_value_to_read, counter_values_list), (time, current_time))\n",
    "\n",
    "# save to user-defined/named dataset for later viewing\n",
    "counter_finite_samples_dataset = datasaver.dataset"
   ]
  },
  {
   "cell_type": "markdown",
   "id": "d79c0690-fe81-4e1d-9217-44145b13a79d",
   "metadata": {},
   "source": [
    "### Galvo scanning (Measurement)\n",
    "\n",
    "This section contains the measurement code cells for galvo scanning. Are there different types?"
   ]
  },
  {
   "cell_type": "markdown",
   "id": "11d5a645-64ac-440b-93df-a1a5f18571e1",
   "metadata": {},
   "source": [
    "#### 1. Galvo scan: using the galvo in the confocal microscope (Measurement)\n",
    "\n",
    "Text"
   ]
  },
  {
   "cell_type": "code",
   "execution_count": 95,
   "id": "cb6b23e7-36e0-4372-b9f9-e53344edda08",
   "metadata": {},
   "outputs": [],
   "source": [
    "# reset galvo cell (to 0 V)\n",
    "\n",
    "# x-mirror\n",
    "ni_9263.voltage_cdaq1mod2ao0(0)\n",
    "\n",
    "# y-mirror\n",
    "ni_9263.voltage_cdaq1mod2ao1(0)"
   ]
  },
  {
   "cell_type": "code",
   "execution_count": null,
   "id": "226d6cca-d5dd-4f14-b0e6-17a67f31f60f",
   "metadata": {},
   "outputs": [],
   "source": [
    "# galvo check cell:\n",
    "\n",
    "for i in range(30):\n",
    "    ni_9263.voltage_cdaq1mod2ao0(10), ni_9263.voltage_cdaq1mod2ao1(10)\n",
    "    sleep(1)\n",
    "    ni_9263.voltage_cdaq1mod2ao0(0), ni_9263.voltage_cdaq1mod2ao1(0)\n",
    "    sleep(1)"
   ]
  },
  {
   "cell_type": "code",
   "execution_count": 102,
   "id": "1861418a-46c8-41c1-af59-37616731adea",
   "metadata": {},
   "outputs": [
    {
     "data": {
      "application/vnd.jupyter.widget-view+json": {
       "model_id": "a788a698f6414334936442fe6979d5c5",
       "version_major": 2,
       "version_minor": 0
      },
      "text/plain": [
       "scan progress:   0%|          | 0/8 [00:00<?, ?it/s]"
      ]
     },
     "metadata": {},
     "output_type": "display_data"
    },
    {
     "name": "stdout",
     "output_type": "stream",
     "text": [
      "motor step voltage: 0.01 V\n",
      "counter read time per point: 0.0001 s\n",
      "num points collected: 64\n",
      "elapsed scanning time: 9.7 s\n",
      "\n",
      "dataset:\n",
      "[[0. 0. 0. 0. 0. 0. 0. 0.]\n",
      " [0. 0. 0. 0. 0. 0. 0. 0.]\n",
      " [0. 0. 0. 0. 0. 0. 0. 0.]\n",
      " [0. 0. 0. 0. 0. 0. 0. 0.]\n",
      " [0. 0. 0. 0. 0. 0. 0. 0.]\n",
      " [0. 0. 0. 0. 0. 0. 0. 0.]\n",
      " [0. 0. 0. 0. 0. 0. 0. 0.]\n",
      " [0. 0. 0. 0. 0. 0. 0. 0.]]\n",
      "\n",
      "plot:\n"
     ]
    },
    {
     "data": {
      "image/png": "[encoded data removed]",
      "text/plain": [
       "<Figure size 540x540 with 2 Axes>"
      ]
     },
     "metadata": {
      "needs_background": "light"
     },
     "output_type": "display_data"
    }
   ],
   "source": [
    "#################### resetting position of mirrors ####################\n",
    "\n",
    "# x-mirror\n",
    "ni_9263.voltage_cdaq1mod2ao0(0)\n",
    "\n",
    "# y-mirror\n",
    "ni_9263.voltage_cdaq1mod2ao1(0)\n",
    "\n",
    "#################### delay to watch sweeping ####################\n",
    "\n",
    "# sleep(13)\n",
    "\n",
    "#################### setting variales and array ####################\n",
    "\n",
    "# get time @ start of scanning\n",
    "start_time = time()\n",
    "\n",
    "# initial driving voltage for x\n",
    "drive_voltage_x = 0.0\n",
    "\n",
    "# initial driving voltage for y\n",
    "drive_voltage_y = 0.0\n",
    "\n",
    "# drive voltage step for sweep\n",
    "drive_voltage_step = 0.01\n",
    "\n",
    "# def size of grid to scan (array is square)\n",
    "grid_size = 8\n",
    "\n",
    "# set delay in seconds (time to let counter accumulate per point)\n",
    "delay_time = 0.0001\n",
    "\n",
    "# create dataset to populate\n",
    "data_array = np.zeros((grid_size, grid_size))\n",
    "\n",
    "#################### looping over grid (scanning) ####################\n",
    "\n",
    "# scan over array reading counter @ each point\n",
    "for k in trange(grid_size, desc = \"scan progress\"): # y rows\n",
    "    \n",
    "    for i in range(grid_size): # x cols\n",
    "        \n",
    "        ni_9263.voltage_cdaq1mod2ao0(drive_voltage_x) # moving on x motor\n",
    "        sleep(delay_time)\n",
    "        \n",
    "        result = ni_9402.read_counter_cdaq1mod1ctr0() # reading counter\n",
    "        \n",
    "        if k == 1 & i == 1: # correcting counter values point to point\n",
    "            result == data_array[k][i]\n",
    "        else:\n",
    "            result == data_array[k][i] - data_array[k - 1][i - 1]\n",
    "            \n",
    "        if k % 2 != 0: # correcting for sweeping back AND forth on x\n",
    "            drive_voltage_x -= drive_voltage_step\n",
    "        else:\n",
    "            drive_voltage_x += drive_voltage_step # stepping x voltage\n",
    "            \n",
    "    ni_9263.voltage_cdaq1mod2ao1(drive_voltage_y) # moving on y motor\n",
    "    drive_voltage_y += drive_voltage_step # stepping y voltage\n",
    "    sleep(delay_time) # correcting delay for edge data points\n",
    "\n",
    "#################### displaying dataset info. ####################\n",
    "\n",
    "# printing parameters\n",
    "print(\"motor step voltage: %s V\" % str(drive_voltage_step))\n",
    "print(\"counter read time per point: \" + str(delay_time) + \" s\")\n",
    "print(\"num points collected: %s\" % (str(grid_size * grid_size)))\n",
    "print(\"elapsed scanning time: %.1f s\" % (time() - start_time) + \"\\n\")\n",
    "\n",
    "# printing dataset\n",
    "print(\"dataset:\\n\" + str(data_array))\n",
    "\n",
    "# plotting dataset\n",
    "print(\"\\nplot:\")\n",
    "fig, axs = plt.subplots(figsize = (7.5, 7.5), layout = \"constrained\")\n",
    "plot1 = axs.pcolormesh(data_array)\n",
    "fig.colorbar(plot1, ax = axs)\n",
    "axs.set_title(\"galvo_scan\");"
   ]
  },
  {
   "cell_type": "markdown",
   "id": "0fc33b99-0ac1-43e4-bf83-ad1014875add",
   "metadata": {},
   "source": [
    "## Analysis\n",
    "\n",
    "___\n",
    "\n",
    "This section is where the data obtained from above measurements is carried out. The numbering scheme below should correspond to the different numbered measurements above."
   ]
  },
  {
   "cell_type": "markdown",
   "id": "170db8fe-d365-4447-8ba1-9bd12ea989e3",
   "metadata": {},
   "source": [
    "### Reading from the chosen counter channel (Analysis)\n",
    "\n",
    "Basic analysis for two counter measurements."
   ]
  },
  {
   "cell_type": "markdown",
   "id": "6279db0a-f996-4775-bcd6-f1bd2e6a4abd",
   "metadata": {},
   "source": [
    "#### 1. Reading a single sample from the chosen counter channel (Analysis)\n",
    "\n",
    "This section will return the single read result measurements from the counter."
   ]
  },
  {
   "cell_type": "code",
   "execution_count": 87,
   "id": "7fe790a5-02eb-4d24-a9b8-98b2177b0c9c",
   "metadata": {},
   "outputs": [
    {
     "name": "stdout",
     "output_type": "stream",
     "text": [
      "counter value = 0.0\n"
     ]
    }
   ],
   "source": [
    "# displaying the single result from the counter\n",
    "print(\"counter value = %s\" % str(result_test))"
   ]
  },
  {
   "cell_type": "markdown",
   "id": "e7bffec8-6d7c-4750-939c-ccf10f7c6caf",
   "metadata": {},
   "source": [
    "#### 2. Reading a finite number of smaples from the chosen counter channel (Analysis)\n",
    "\n",
    "This section will return the results of measurements that acquired a finite number of samples from the counter."
   ]
  },
  {
   "cell_type": "code",
   "execution_count": 93,
   "id": "16976bff-d28b-4e2d-9146-ae2688f3f10e",
   "metadata": {},
   "outputs": [
    {
     "data": {
      "image/png": "[encoded data removed]",
      "text/plain": [
       "<Figure size 432x288 with 1 Axes>"
      ]
     },
     "metadata": {
      "needs_background": "light"
     },
     "output_type": "display_data"
    }
   ],
   "source": [
    "# using the QCoDeS internal plotting functionality (`plot_dataset`) to visualize the measurement caried out in an above cell\n",
    "axs, cbs = plot_dataset(counter_finite_samples_dataset)\n",
    "\n",
    "# TODO: additional plotting parameters? Plot window size?\n",
    "# TODO: add a comment or note somewhere about the automatic plot labeling according to the measurement (the measurement parameters)"
   ]
  },
  {
   "cell_type": "markdown",
   "id": "f448319f-1bfb-4da1-8215-476713cdce14",
   "metadata": {},
   "source": [
    "### Galvo scanning (Analysis)\n",
    "\n",
    "Analysis section for galvo scanning measurements."
   ]
  },
  {
   "cell_type": "markdown",
   "id": "fc99aae4-237c-43f4-ab1c-65b8cf208d73",
   "metadata": {},
   "source": [
    "#### 1. Galvo scan generic(?) (Analysis)"
   ]
  },
  {
   "cell_type": "code",
   "execution_count": 100,
   "id": "d59a0ebc-2c58-43e8-b61f-2492be092444",
   "metadata": {},
   "outputs": [
    {
     "name": "stdout",
     "output_type": "stream",
     "text": [
      "fill in\n"
     ]
    }
   ],
   "source": [
    "print(\"fill in\")"
   ]
  },
  {
   "cell_type": "raw",
   "id": "e71ece0b-92d0-4136-8e2f-fa0e99eeec4a",
   "metadata": {},
   "source": [
    "NOTES\n",
    "\n",
    "\n",
    "TODO: add below somewhere:\n",
    "\n",
    "1. https://qcodes.github.io/Qcodes/examples/15_minutes_to_QCoDeS.html#Exploring-datasets-and-databases. To \"Measurement\"?\n",
    "2. In \"Analysis\" it seems only one measurement can be displayed at once -so multiple measurement cells per section? That would require many indep. named datasets...\n",
    "3. the galvo scanning code (at least basic scanning program) should be moved to a file that is imported -analgous to the contrib_drivers for the NI DAQ functionality"
   ]
  }
 ],
 "metadata": {
  "kernelspec": {
   "display_name": "Python 3 (ipykernel)",
   "language": "python",
   "name": "python3"
  },
  "language_info": {
   "codemirror_mode": {
    "name": "ipython",
    "version": 3
   },
   "file_extension": ".py",
   "mimetype": "text/x-python",
   "name": "python",
   "nbconvert_exporter": "python",
   "pygments_lexer": "ipython3",
   "version": "3.10.4"
  }
 },
 "nbformat": 4,
 "nbformat_minor": 5
}
