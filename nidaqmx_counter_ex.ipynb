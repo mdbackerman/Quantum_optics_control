{
 "cells": [
  {
   "cell_type": "markdown",
   "id": "d12d1674-cc4e-4b46-8388-e91de0427460",
   "metadata": {},
   "source": [
    "# NI-DAQmx counter ex\n",
    "\n",
    "___\n",
    "___\n",
    "\n",
    "072022 $\\rightarrow$ 072222"
   ]
  },
  {
   "cell_type": "markdown",
   "id": "fe518165-9bb0-4489-81bd-334ba264ea5e",
   "metadata": {},
   "source": [
    "## imports\n",
    "\n",
    "___\n"
   ]
  },
  {
   "cell_type": "code",
   "execution_count": 1,
   "id": "83d265f5-f0f6-4f3c-8bb8-05bebe952703",
   "metadata": {},
   "outputs": [],
   "source": [
    "import nidaqmx\n",
    "import numpy as np\n",
    "\n",
    "from nidaqmx.constants import(\n",
    "    Edge,\n",
    "    CountDirection,\n",
    "    AcquisitionType,\n",
    "    FrequencyUnits\n",
    ")\n",
    "\n",
    "# import from specific nidaqmx package\n",
    "from nidaqmx.stream_readers import CounterReader"
   ]
  },
  {
   "cell_type": "markdown",
   "id": "5d99e20e-71d9-4f80-a6da-6714c6c62457",
   "metadata": {},
   "source": [
    "## def variables\n",
    "\n",
    "___\n"
   ]
  },
  {
   "cell_type": "code",
   "execution_count": 2,
   "id": "42b56c42-37bd-4aaf-abe2-3f5dc0077b9f",
   "metadata": {},
   "outputs": [
    {
     "name": "stdout",
     "output_type": "stream",
     "text": [
      "1000 0.01\n"
     ]
    }
   ],
   "source": [
    "integration_time = 0.25\n",
    "sample_rate = 1000\n",
    "timeout = 5*2*1.0/sample_rate\n",
    "max_samples = 12\n",
    "print(sample_rate, timeout)"
   ]
  },
  {
   "cell_type": "markdown",
   "id": "d8847c52-f493-41b9-8879-f7c863e06819",
   "metadata": {},
   "source": [
    "## main program\n",
    "\n",
    "__\n"
   ]
  },
  {
   "cell_type": "code",
   "execution_count": 11,
   "id": "8ad38454-81d6-407c-99f7-0088e01cacca",
   "metadata": {},
   "outputs": [
    {
     "name": "stdout",
     "output_type": "stream",
     "text": [
      "[0, 0, 0, 0, 0, 0, 0, 0, 0, 0, 0, 0, 0, 0, 0, 0, 0, 0, 0, 0, 0, 0, 0, 0, 0, 0, 0, 0, 0, 0, 0, 0, 0, 0, 0, 0, 0, 0, 0, 0, 0, 0, 0, 0, 0, 0, 0, 0, 0, 0, 0, 0, 0, 0, 0, 0, 0, 0, 0, 0, 0, 0, 0, 0, 0, 0, 0, 0, 0, 0, 0, 0, 0, 0, 0, 0, 0, 0, 0, 0, 0, 0, 0, 0, 0, 0, 0, 0, 0, 0, 0, 0, 0, 0, 0, 0, 0, 0, 0, 0, 0, 0, 0, 0, 0, 0, 0, 0, 0, 0, 0, 0, 0, 0, 0, 0, 0, 0, 0, 0, 0, 0, 0, 0, 0, 0, 0, 0, 0, 0, 0, 0, 0, 0, 0, 0, 0, 0, 0, 0, 0, 0, 0, 0, 0, 0, 0, 0, 0, 0, 0, 0, 0, 0, 0, 0, 0, 0, 0, 0, 0, 0, 0, 0, 0, 0, 0, 0, 0, 0, 0, 0, 0, 0, 0, 0, 0, 0, 0, 0, 0, 0, 0, 0, 0, 0, 0, 0, 0, 0, 0, 0, 0, 0, 0, 0, 0, 0, 0, 0, 0, 0, 0, 0, 0, 0, 0, 0, 0, 0, 0, 0, 0, 0, 0, 0, 0, 0, 0, 0, 0, 0, 0, 0, 0, 0, 0, 0, 0, 0, 0, 0, 0, 0, 0, 0, 0, 0, 0, 0, 0, 0, 0, 0, 0, 0, 0, 0, 0, 0, 0, 0, 0, 0, 0, 0, 0, 0, 0, 0, 0, 0, 0, 0, 0, 0, 0, 0, 0, 0, 0, 0, 0, 0, 0, 0, 0, 0, 0, 0, 0, 0, 0, 0, 0, 0, 0, 0, 0, 0, 0, 0, 0, 0, 0, 0, 0, 0, 0, 0, 0, 0, 0, 0, 0, 0, 0, 0, 0, 0, 0, 0, 0, 0, 0, 0, 0, 0, 0, 0, 0, 0, 0, 0, 0, 0, 0, 0, 0, 0, 0, 0, 0, 0, 0, 0, 0, 0, 0, 0, 0, 0, 0, 0, 0, 0, 0, 0, 0, 0, 0, 0, 0, 0, 0, 0, 0, 0, 0, 0, 0, 0, 0, 0, 0, 0, 0, 0, 0, 0, 0, 0, 0, 0, 0, 0, 0, 0, 0, 0, 0, 0, 0, 0, 0, 0, 0, 0, 0, 0, 0, 0, 0, 0, 0, 0, 0, 0, 0, 0, 0, 0, 0, 0, 0, 0, 0, 0, 0, 0, 0, 0, 0, 0, 0, 0, 0, 0, 0, 0, 0, 0, 0, 0, 0, 0, 0, 0, 0, 0, 0, 0, 0, 0, 0, 0, 0, 0, 0, 0, 0, 0, 0, 0, 0, 0, 0, 0, 0, 0, 0, 0, 0, 0, 0, 0, 0, 0, 0, 0, 0, 0, 0, 0, 0, 0, 0, 0, 0, 0, 0, 0, 0, 0, 0, 0, 0, 0, 0, 0, 0, 0, 0, 0, 0, 0, 0, 0, 0, 0, 0, 0, 0, 0, 0, 0, 0, 0, 0, 0, 0, 0, 0, 0, 0, 0, 0, 0, 0, 0, 0, 0, 0, 0, 0, 0, 0, 0, 0, 0, 0, 0, 0, 0, 0, 0, 0, 0, 0, 0, 0, 0, 0, 0, 0, 0, 0, 0, 0, 0, 0, 0, 0, 0, 0, 0, 0, 0, 0, 0, 0, 0, 0, 0, 0, 0, 0, 0, 0, 0, 0, 0, 0, 0, 0, 0, 0, 0, 0, 0, 0, 0, 0, 0, 0, 0, 0, 0, 0, 0, 0, 0, 0, 0, 0, 0, 0, 0, 0, 0, 0, 0, 0, 0, 0, 0, 0, 0, 0, 0, 0, 0, 0, 0, 0, 0, 0, 0, 0, 0, 0, 0, 0, 0, 0, 0, 0, 0, 0, 0, 0, 0, 0, 0, 0, 0, 0, 0, 0, 0, 0, 0, 0, 0, 0, 0, 0, 0, 0, 0, 0, 0, 0, 0, 0, 0, 0, 0, 0, 0, 0, 0, 0, 0, 0, 0, 0, 0, 0, 0, 0, 0, 0, 0, 0, 0, 0, 0, 0, 0, 0, 0, 0, 0, 0, 0, 0, 0, 0, 0, 0, 0, 0, 0, 0, 0, 0, 0, 0, 0, 0, 0, 0, 0, 0, 0, 0, 0, 0, 0, 0, 0, 0, 0, 0, 0, 0, 0, 0, 0, 0, 0, 0, 0, 0, 0, 0, 0, 0, 0, 0, 0, 0, 0, 0, 0, 0, 0, 0, 0, 0, 0, 0, 0, 0, 0, 0, 0, 0, 0, 0, 0, 0, 0, 0, 0, 0, 0, 0, 0, 0, 0, 0, 0, 0, 0, 0, 0, 0, 0, 0, 0, 0, 0, 0, 0, 0, 0, 0, 0, 0, 0, 0, 0, 0, 0, 0, 0, 0, 0, 0, 0, 0, 0, 0, 0, 0, 0, 0, 0, 0, 0, 0, 0, 0, 0, 0, 0, 0, 0, 0, 0, 0, 0, 0, 0, 0, 0, 0, 0, 0, 0, 0, 0, 0, 0, 0, 0, 0, 0, 0, 0, 0, 0, 0, 0, 0, 0, 0, 0, 0, 0, 0, 0, 0, 0, 0, 0, 0, 0, 0, 0, 0, 0, 0, 0, 0, 0, 0, 0, 0, 0, 0, 0, 0, 0, 0, 0, 0, 0, 0, 0, 0, 0, 0, 0, 0, 0, 0, 0, 0, 0, 0, 0, 0, 0, 0, 0, 0, 0, 0, 0, 0, 0, 0, 0, 0, 0, 0, 0, 0, 0, 0, 0, 0, 0, 0, 0, 0, 0, 0, 0, 0, 0, 0, 0, 0, 0, 0, 0, 0, 0, 0, 0, 0, 0, 0, 0, 0, 0, 0, 0, 0, 0, 0, 0, 0, 0, 0, 0, 0, 0, 0, 0, 0, 0, 0, 0, 0, 0, 0, 0, 0, 0, 0, 0, 0, 0, 0, 0, 0, 0, 0, 0, 0, 0, 0, 0, 0, 0, 0, 0, 0, 0, 0, 0, 0, 0, 0, 0, 0, 0, 0, 0, 0, 0, 0, 0, 0, 0, 0, 0, 0, 0, 0, 0, 0, 0, 0, 0, 0, 0, 0, 0, 0, 0, 0, 0, 0, 0]\n"
     ]
    }
   ],
   "source": [
    "#\n",
    "with nidaqmx.Task() as task1, nidaqmx.Task() as counter_output_task:\n",
    "\n",
    "    #\n",
    "    counter_output_task.co_channels.add_co_pulse_chan_freq(\n",
    "        counter = \"cDAQ1Mod1/ctr1\",\n",
    "        name_to_assign_to_channel = \"\",\n",
    "        units = FrequencyUnits.HZ,\n",
    "        idle_state = nidaqmx.constants.Level.LOW,\n",
    "        initial_delay = 0.0,\n",
    "        freq = sample_rate,\n",
    "        duty_cycle = 0.5\n",
    "        )\n",
    "\n",
    "    #\n",
    "    counter_output_task.timing.cfg_implicit_timing(\n",
    "        sample_mode = AcquisitionType.CONTINUOUS,\n",
    "        samps_per_chan = 1,\n",
    "        )\n",
    "\n",
    "    #\n",
    "    task1.ci_channels.add_ci_count_edges_chan(\n",
    "        counter=\"cDAQ1Mod1/ctr0\",\n",
    "        name_to_assign_to_channel=\"\",\n",
    "        edge=Edge.RISING,\n",
    "        initial_count = 0,\n",
    "        count_direction = CountDirection.COUNT_UP\n",
    "        )\n",
    "\n",
    "    #\n",
    "    task1.timing.cfg_samp_clk_timing(\n",
    "        rate = sample_rate,\n",
    "        source = \"/cDAQ1/Ctr1InternalOutput\",\n",
    "        active_edge = Edge.RISING,\n",
    "        sample_mode = AcquisitionType.CONTINUOUS,\n",
    "        samps_per_chan = 1 #samples to acquire per channel\n",
    "        )\n",
    "\n",
    "    #\n",
    "    counter_output_task.start()\n",
    "    task1.start()\n",
    "    \n",
    "    data = task1.read(1000)\n",
    "    print(data)\n",
    "\n",
    "    # #\n",
    "    # while True:\n",
    "    #     data = task1.read(1, timeout=timeout)\n",
    "    #     print(data, end = \" \")\n",
    "\n",
    "    #\n",
    "    counter_output_task.stop()\n",
    "    task1.stop()"
   ]
  },
  {
   "cell_type": "code",
   "execution_count": 10,
   "id": "3269bf5e-da56-452d-870f-6bb8d71ccb89",
   "metadata": {},
   "outputs": [
    {
     "data": {
      "text/plain": [
       "[<matplotlib.lines.Line2D at 0x2220d8f3f70>]"
      ]
     },
     "execution_count": 10,
     "metadata": {},
     "output_type": "execute_result"
    },
    {
     "data": {
      "image/png": "[encoded data removed]",
      "text/plain": [
       "<Figure size 432x288 with 1 Axes>"
      ]
     },
     "metadata": {
      "needs_background": "light"
     },
     "output_type": "display_data"
    }
   ],
   "source": [
    "import matplotlib.pyplot as plt\n",
    "fig, ax = plt.subplots()\n",
    "ax.plot(data)"
   ]
  },
  {
   "cell_type": "code",
   "execution_count": null,
   "id": "dc8acebe-0dd2-425b-90c8-daf52eb222b5",
   "metadata": {},
   "outputs": [],
   "source": []
  }
 ],
 "metadata": {
  "kernelspec": {
   "display_name": "Python 3 (ipykernel)",
   "language": "python",
   "name": "python3"
  },
  "language_info": {
   "codemirror_mode": {
    "name": "ipython",
    "version": 3
   },
   "file_extension": ".py",
   "mimetype": "text/x-python",
   "name": "python",
   "nbconvert_exporter": "python",
   "pygments_lexer": "ipython3",
   "version": "3.10.4"
  }
 },
 "nbformat": 4,
 "nbformat_minor": 5
}
